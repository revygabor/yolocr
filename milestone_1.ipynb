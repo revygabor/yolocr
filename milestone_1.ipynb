{
 "cells": [
  {
   "cell_type": "code",
   "execution_count": 1,
   "metadata": {
    "collapsed": true
   },
   "outputs": [
    {
     "name": "stderr",
     "output_type": "stream",
     "text": [
      "Using TensorFlow backend.\n"
     ]
    }
   ],
   "source": [
    "from data.generate_data import generate_train_data\n",
    "from matplotlib import pyplot as plt\n",
    "import string\n",
    "\n",
    "char_list = list(string.ascii_letters)\n",
    "char_list.extend(list(string.digits))"
   ]
  },
  {
   "cell_type": "code",
   "execution_count": 2,
   "metadata": {},
   "outputs": [
    {
     "name": "stdout",
     "output_type": "stream",
     "text": [
      "print\nprint\nprint\nprint\n"
     ]
    },
    {
     "name": "stdout",
     "output_type": "stream",
     "text": [
      "print\n"
     ]
    }
   ],
   "source": [
    "n_pictures = 5\n",
    "data_generator = generate_train_data(batch_size = n_pictures, char_list=char_list, font_list=[\"arial\"], size_interval=(50, 200))\n",
    "images, chars = next(data_generator)\n",
    "fig, axes = plt.subplots(1, n_pictures)\n",
    "for i, ax in enumerate(axes):\n",
    "    ax.imshow(images[i])\n",
    "    \n",
    "fig.show()"
   ]
  },
  {
   "cell_type": "code",
   "execution_count": 18,
   "metadata": {},
   "outputs": [],
   "source": [
    "img = images[0]"
   ]
  },
  {
   "cell_type": "code",
   "execution_count": 23,
   "metadata": {},
   "outputs": [],
   "source": [
    "plt.imshow(np.rot90(img, 2))\n",
    "plt.show()"
   ]
  },
  {
   "cell_type": "code",
   "execution_count": 21,
   "metadata": {},
   "outputs": [],
   "source": [
    "import numpy as np"
   ]
  }
 ],
 "metadata": {
  "kernelspec": {
   "display_name": "Python 2",
   "language": "python",
   "name": "python2"
  },
  "language_info": {
   "codemirror_mode": {
    "name": "ipython",
    "version": 2
   },
   "file_extension": ".py",
   "mimetype": "text/x-python",
   "name": "python",
   "nbconvert_exporter": "python",
   "pygments_lexer": "ipython2",
   "version": "2.7.6"
  }
 },
 "nbformat": 4,
 "nbformat_minor": 0
}
