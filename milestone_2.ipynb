{
 "cells": [
  {
   "cell_type": "code",
   "execution_count": 5,
   "metadata": {
    "collapsed": true
   },
   "outputs": [],
   "source": [
    "import string\n",
    "\n",
    "from matplotlib import pyplot as plt\n",
    "%matplotlib inline\n",
    "\n",
    "from data.generate_data import generate_yolo_train_data\n"
   ]
  },
  {
   "cell_type": "markdown",
   "metadata": {},
   "source": [
    "During training we use Keras' fit_generator. The generator generates an image with one ore more characters on it and the 3 corresponding output tensors to it."
   ]
  },
  {
   "cell_type": "code",
   "execution_count": 2,
   "metadata": {
    "collapsed": true
   },
   "outputs": [],
   "source": [
    "\n",
    "batch_size = 5\n",
    "cell_sizes = [16, 8, 4]\n",
    "anchor_boxes = [(64, 64), (32, 32), (16, 16)]\n",
    "\n",
    "chars_list = list(string.ascii_letters)\n",
    "chars_list.extend(list(string.digits))\n",
    "n_classes = len(chars_list)\n"
   ]
  },
  {
   "cell_type": "markdown",
   "metadata": {},
   "source": [
    "We set the parameters: batch size, pixel size of grids we predict in, anchor box sizes we use at different scales, list of chars we want to generate, font and size of the chars and the size of the image."
   ]
  },
  {
   "cell_type": "code",
   "execution_count": 3,
   "metadata": {
    "collapsed": true
   },
   "outputs": [],
   "source": [
    "train_data_generator = generate_yolo_train_data(batch_size, cell_sizes,\n",
    "                                                anchor_boxes, chars_list, ['arial'], (50, 100), (416,416))\n",
    "images, out_tensors = next(train_data_generator)"
   ]
  },
  {
   "cell_type": "markdown",
   "metadata": {},
   "source": [
    "It generates images:"
   ]
  },
  {
   "cell_type": "code",
   "execution_count": 6,
   "metadata": {},
   "outputs": [
    {
     "data": {
      "image/png": "[encoded data removed]",
      "text/plain": [
       "<matplotlib.figure.Figure at 0x1d3d4cd66a0>"
      ]
     },
     "metadata": {},
     "output_type": "display_data"
    }
   ],
   "source": [
    "plt.imshow(images[0])\n",
    "plt.show()"
   ]
  },
  {
   "cell_type": "markdown",
   "metadata": {},
   "source": [
    "And corresponding output tensors:"
   ]
  },
  {
   "cell_type": "code",
   "execution_count": null,
   "metadata": {},
   "outputs": [],
   "source": [
    "out1, out2, out3 = out_tensors\n",
    "print('Grid size in the 1st scale: {} by {}'.format(out1[0].shape[1], out1[0].shape[0]))\n",
    "print('Grid size in the 2nd scale: {} by {}'.format(out2[0].shape[1], out2[0].shape[0]))\n",
    "print('Grid size in the 3rd scale: {} by {}'.format(out3[0].shape[1], out3[0].shape[0]))\n",
    "\n",
    "print('\\nPredicted values per cell: {}'.format(out1[0].shape[2]))\n"
   ]
  }
 ],
 "metadata": {
  "kernelspec": {
   "display_name": "Python 2",
   "language": "python",
   "name": "python2"
  },
  "language_info": {
   "codemirror_mode": {
    "name": "ipython",
    "version": 2
   },
   "file_extension": ".py",
   "mimetype": "text/x-python",
   "name": "python",
   "nbconvert_exporter": "python",
   "pygments_lexer": "ipython2",
   "version": "2.7.6"
  }
 },
 "nbformat": 4,
 "nbformat_minor": 0
}
